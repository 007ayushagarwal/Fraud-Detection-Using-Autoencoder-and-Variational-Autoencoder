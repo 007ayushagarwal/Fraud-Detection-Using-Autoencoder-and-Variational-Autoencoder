{
 "cells": [
  {
   "cell_type": "markdown",
   "metadata": {},
   "source": [
    "# Fraud Detection Using an Autoencoder and Variational Autoencoder\n",
    "\n",
    "\n",
    "\n",
    "\n",
    "\n"
   ]
  },
  {
   "cell_type": "markdown",
   "metadata": {},
   "source": [
    "\n",
    "At the end of the code, a summary of the entire work is provided to offer a concise overview of the project.\n"
   ]
  },
  {
   "cell_type": "code",
   "execution_count": 13,
   "metadata": {},
   "outputs": [],
   "source": [
    "import pandas as pd\n",
    "import matplotlib.pyplot as plt\n",
    "import numpy as np"
   ]
  },
  {
   "cell_type": "markdown",
   "metadata": {},
   "source": [
    "__DATASET__\n",
    "\n",
    "- Data has 284807 rows and 31 coloumns\n"
   ]
  },
  {
   "cell_type": "code",
   "execution_count": 14,
   "metadata": {},
   "outputs": [
    {
     "name": "stdout",
     "output_type": "stream",
     "text": [
      "shape of the data is (284807, 31)\n",
      "head of the data is:\n"
     ]
    },
    {
     "data": {
      "text/html": [
       "<div>\n",
       "<style scoped>\n",
       "    .dataframe tbody tr th:only-of-type {\n",
       "        vertical-align: middle;\n",
       "    }\n",
       "\n",
       "    .dataframe tbody tr th {\n",
       "        vertical-align: top;\n",
       "    }\n",
       "\n",
       "    .dataframe thead th {\n",
       "        text-align: right;\n",
       "    }\n",
       "</style>\n",
       "<table border=\"1\" class=\"dataframe\">\n",
       "  <thead>\n",
       "    <tr style=\"text-align: right;\">\n",
       "      <th></th>\n",
       "      <th>Time</th>\n",
       "      <th>V1</th>\n",
       "      <th>V2</th>\n",
       "      <th>V3</th>\n",
       "      <th>V4</th>\n",
       "      <th>V5</th>\n",
       "      <th>V6</th>\n",
       "      <th>V7</th>\n",
       "      <th>V8</th>\n",
       "      <th>V9</th>\n",
       "      <th>...</th>\n",
       "      <th>V21</th>\n",
       "      <th>V22</th>\n",
       "      <th>V23</th>\n",
       "      <th>V24</th>\n",
       "      <th>V25</th>\n",
       "      <th>V26</th>\n",
       "      <th>V27</th>\n",
       "      <th>V28</th>\n",
       "      <th>Amount</th>\n",
       "      <th>Class</th>\n",
       "    </tr>\n",
       "  </thead>\n",
       "  <tbody>\n",
       "    <tr>\n",
       "      <th>0</th>\n",
       "      <td>0.0</td>\n",
       "      <td>-1.359807</td>\n",
       "      <td>-0.072781</td>\n",
       "      <td>2.536347</td>\n",
       "      <td>1.378155</td>\n",
       "      <td>-0.338321</td>\n",
       "      <td>0.462388</td>\n",
       "      <td>0.239599</td>\n",
       "      <td>0.098698</td>\n",
       "      <td>0.363787</td>\n",
       "      <td>...</td>\n",
       "      <td>-0.018307</td>\n",
       "      <td>0.277838</td>\n",
       "      <td>-0.110474</td>\n",
       "      <td>0.066928</td>\n",
       "      <td>0.128539</td>\n",
       "      <td>-0.189115</td>\n",
       "      <td>0.133558</td>\n",
       "      <td>-0.021053</td>\n",
       "      <td>149.62</td>\n",
       "      <td>0</td>\n",
       "    </tr>\n",
       "    <tr>\n",
       "      <th>1</th>\n",
       "      <td>0.0</td>\n",
       "      <td>1.191857</td>\n",
       "      <td>0.266151</td>\n",
       "      <td>0.166480</td>\n",
       "      <td>0.448154</td>\n",
       "      <td>0.060018</td>\n",
       "      <td>-0.082361</td>\n",
       "      <td>-0.078803</td>\n",
       "      <td>0.085102</td>\n",
       "      <td>-0.255425</td>\n",
       "      <td>...</td>\n",
       "      <td>-0.225775</td>\n",
       "      <td>-0.638672</td>\n",
       "      <td>0.101288</td>\n",
       "      <td>-0.339846</td>\n",
       "      <td>0.167170</td>\n",
       "      <td>0.125895</td>\n",
       "      <td>-0.008983</td>\n",
       "      <td>0.014724</td>\n",
       "      <td>2.69</td>\n",
       "      <td>0</td>\n",
       "    </tr>\n",
       "    <tr>\n",
       "      <th>2</th>\n",
       "      <td>1.0</td>\n",
       "      <td>-1.358354</td>\n",
       "      <td>-1.340163</td>\n",
       "      <td>1.773209</td>\n",
       "      <td>0.379780</td>\n",
       "      <td>-0.503198</td>\n",
       "      <td>1.800499</td>\n",
       "      <td>0.791461</td>\n",
       "      <td>0.247676</td>\n",
       "      <td>-1.514654</td>\n",
       "      <td>...</td>\n",
       "      <td>0.247998</td>\n",
       "      <td>0.771679</td>\n",
       "      <td>0.909412</td>\n",
       "      <td>-0.689281</td>\n",
       "      <td>-0.327642</td>\n",
       "      <td>-0.139097</td>\n",
       "      <td>-0.055353</td>\n",
       "      <td>-0.059752</td>\n",
       "      <td>378.66</td>\n",
       "      <td>0</td>\n",
       "    </tr>\n",
       "    <tr>\n",
       "      <th>3</th>\n",
       "      <td>1.0</td>\n",
       "      <td>-0.966272</td>\n",
       "      <td>-0.185226</td>\n",
       "      <td>1.792993</td>\n",
       "      <td>-0.863291</td>\n",
       "      <td>-0.010309</td>\n",
       "      <td>1.247203</td>\n",
       "      <td>0.237609</td>\n",
       "      <td>0.377436</td>\n",
       "      <td>-1.387024</td>\n",
       "      <td>...</td>\n",
       "      <td>-0.108300</td>\n",
       "      <td>0.005274</td>\n",
       "      <td>-0.190321</td>\n",
       "      <td>-1.175575</td>\n",
       "      <td>0.647376</td>\n",
       "      <td>-0.221929</td>\n",
       "      <td>0.062723</td>\n",
       "      <td>0.061458</td>\n",
       "      <td>123.50</td>\n",
       "      <td>0</td>\n",
       "    </tr>\n",
       "    <tr>\n",
       "      <th>4</th>\n",
       "      <td>2.0</td>\n",
       "      <td>-1.158233</td>\n",
       "      <td>0.877737</td>\n",
       "      <td>1.548718</td>\n",
       "      <td>0.403034</td>\n",
       "      <td>-0.407193</td>\n",
       "      <td>0.095921</td>\n",
       "      <td>0.592941</td>\n",
       "      <td>-0.270533</td>\n",
       "      <td>0.817739</td>\n",
       "      <td>...</td>\n",
       "      <td>-0.009431</td>\n",
       "      <td>0.798278</td>\n",
       "      <td>-0.137458</td>\n",
       "      <td>0.141267</td>\n",
       "      <td>-0.206010</td>\n",
       "      <td>0.502292</td>\n",
       "      <td>0.219422</td>\n",
       "      <td>0.215153</td>\n",
       "      <td>69.99</td>\n",
       "      <td>0</td>\n",
       "    </tr>\n",
       "  </tbody>\n",
       "</table>\n",
       "<p>5 rows × 31 columns</p>\n",
       "</div>"
      ],
      "text/plain": [
       "   Time        V1        V2        V3        V4        V5        V6        V7  \\\n",
       "0   0.0 -1.359807 -0.072781  2.536347  1.378155 -0.338321  0.462388  0.239599   \n",
       "1   0.0  1.191857  0.266151  0.166480  0.448154  0.060018 -0.082361 -0.078803   \n",
       "2   1.0 -1.358354 -1.340163  1.773209  0.379780 -0.503198  1.800499  0.791461   \n",
       "3   1.0 -0.966272 -0.185226  1.792993 -0.863291 -0.010309  1.247203  0.237609   \n",
       "4   2.0 -1.158233  0.877737  1.548718  0.403034 -0.407193  0.095921  0.592941   \n",
       "\n",
       "         V8        V9  ...       V21       V22       V23       V24       V25  \\\n",
       "0  0.098698  0.363787  ... -0.018307  0.277838 -0.110474  0.066928  0.128539   \n",
       "1  0.085102 -0.255425  ... -0.225775 -0.638672  0.101288 -0.339846  0.167170   \n",
       "2  0.247676 -1.514654  ...  0.247998  0.771679  0.909412 -0.689281 -0.327642   \n",
       "3  0.377436 -1.387024  ... -0.108300  0.005274 -0.190321 -1.175575  0.647376   \n",
       "4 -0.270533  0.817739  ... -0.009431  0.798278 -0.137458  0.141267 -0.206010   \n",
       "\n",
       "        V26       V27       V28  Amount  Class  \n",
       "0 -0.189115  0.133558 -0.021053  149.62      0  \n",
       "1  0.125895 -0.008983  0.014724    2.69      0  \n",
       "2 -0.139097 -0.055353 -0.059752  378.66      0  \n",
       "3 -0.221929  0.062723  0.061458  123.50      0  \n",
       "4  0.502292  0.219422  0.215153   69.99      0  \n",
       "\n",
       "[5 rows x 31 columns]"
      ]
     },
     "execution_count": 14,
     "metadata": {},
     "output_type": "execute_result"
    }
   ],
   "source": [
    "# importing the data from computer\n",
    "df = pd.read_csv(\"C:\\\\Users\\\\ayush\\\\Downloads\\\\archive\\\\creditcard.csv\")\n",
    "\n",
    "## data shape and data head\n",
    "print(f\"shape of the data is {df.shape}\")\n",
    "print(\"head of the data is:\")\n",
    "df.head()  "
   ]
  },
  {
   "cell_type": "markdown",
   "metadata": {},
   "source": [
    "The Data Has no null values\n"
   ]
  },
  {
   "cell_type": "code",
   "execution_count": 15,
   "metadata": {},
   "outputs": [
    {
     "data": {
      "text/plain": [
       "False"
      ]
     },
     "execution_count": 15,
     "metadata": {},
     "output_type": "execute_result"
    }
   ],
   "source": [
    "## checking the null values in the data\n",
    "df.isnull().values.any()"
   ]
  },
  {
   "cell_type": "markdown",
   "metadata": {},
   "source": [
    "The Pie Chart shows that that data is higly inbalance 99.8% of the data come from same class(non-fraud)\n"
   ]
  },
  {
   "cell_type": "code",
   "execution_count": 16,
   "metadata": {},
   "outputs": [
    {
     "data": {
      "image/png": "[encoded data removed]",
      "text/plain": [
       "<Figure size 432x288 with 1 Axes>"
      ]
     },
     "metadata": {},
     "output_type": "display_data"
    }
   ],
   "source": [
    "class_counts = df['Class'].value_counts()\n",
    "\n",
    "class_counts.plot(kind='pie', autopct='%1.1f%%', labels=['Non-Fraud', 'Fraud'])\n",
    "\n",
    "plt.legend(labels=['Non-Fraud', 'Fraud'], loc='upper right')\n",
    "legend_colors = {'Non-Fraud': 'blue', 'Fraud': 'red'}\n",
    "handles = [plt.Line2D([0], [0], marker='o', color='w', label=label, markersize=10, markerfacecolor=color) for label, color in legend_colors.items()]\n",
    "plt.legend(handles=handles, loc='upper left')\n",
    "\n",
    "plt.title('Number of Points in Different Classes')\n",
    "plt.ylabel('')\n",
    "plt.show()\n"
   ]
  },
  {
   "cell_type": "code",
   "execution_count": 17,
   "metadata": {},
   "outputs": [
    {
     "name": "stdout",
     "output_type": "stream",
     "text": [
      "description of the data is \n"
     ]
    },
    {
     "data": {
      "text/html": [
       "<div>\n",
       "<style scoped>\n",
       "    .dataframe tbody tr th:only-of-type {\n",
       "        vertical-align: middle;\n",
       "    }\n",
       "\n",
       "    .dataframe tbody tr th {\n",
       "        vertical-align: top;\n",
       "    }\n",
       "\n",
       "    .dataframe thead th {\n",
       "        text-align: right;\n",
       "    }\n",
       "</style>\n",
       "<table border=\"1\" class=\"dataframe\">\n",
       "  <thead>\n",
       "    <tr style=\"text-align: right;\">\n",
       "      <th></th>\n",
       "      <th>Time</th>\n",
       "      <th>V1</th>\n",
       "      <th>V2</th>\n",
       "      <th>V3</th>\n",
       "      <th>V4</th>\n",
       "      <th>V5</th>\n",
       "      <th>V6</th>\n",
       "      <th>V7</th>\n",
       "      <th>V8</th>\n",
       "      <th>V9</th>\n",
       "      <th>...</th>\n",
       "      <th>V21</th>\n",
       "      <th>V22</th>\n",
       "      <th>V23</th>\n",
       "      <th>V24</th>\n",
       "      <th>V25</th>\n",
       "      <th>V26</th>\n",
       "      <th>V27</th>\n",
       "      <th>V28</th>\n",
       "      <th>Amount</th>\n",
       "      <th>Class</th>\n",
       "    </tr>\n",
       "  </thead>\n",
       "  <tbody>\n",
       "    <tr>\n",
       "      <th>count</th>\n",
       "      <td>284807.000000</td>\n",
       "      <td>2.848070e+05</td>\n",
       "      <td>2.848070e+05</td>\n",
       "      <td>2.848070e+05</td>\n",
       "      <td>2.848070e+05</td>\n",
       "      <td>2.848070e+05</td>\n",
       "      <td>2.848070e+05</td>\n",
       "      <td>2.848070e+05</td>\n",
       "      <td>2.848070e+05</td>\n",
       "      <td>2.848070e+05</td>\n",
       "      <td>...</td>\n",
       "      <td>2.848070e+05</td>\n",
       "      <td>2.848070e+05</td>\n",
       "      <td>2.848070e+05</td>\n",
       "      <td>2.848070e+05</td>\n",
       "      <td>2.848070e+05</td>\n",
       "      <td>2.848070e+05</td>\n",
       "      <td>2.848070e+05</td>\n",
       "      <td>2.848070e+05</td>\n",
       "      <td>284807.000000</td>\n",
       "      <td>284807.000000</td>\n",
       "    </tr>\n",
       "    <tr>\n",
       "      <th>mean</th>\n",
       "      <td>94813.859575</td>\n",
       "      <td>1.165980e-15</td>\n",
       "      <td>3.416908e-16</td>\n",
       "      <td>-1.373150e-15</td>\n",
       "      <td>2.086869e-15</td>\n",
       "      <td>9.604066e-16</td>\n",
       "      <td>1.490107e-15</td>\n",
       "      <td>-5.556467e-16</td>\n",
       "      <td>1.177556e-16</td>\n",
       "      <td>-2.406455e-15</td>\n",
       "      <td>...</td>\n",
       "      <td>1.656562e-16</td>\n",
       "      <td>-3.444850e-16</td>\n",
       "      <td>2.578648e-16</td>\n",
       "      <td>4.471968e-15</td>\n",
       "      <td>5.340915e-16</td>\n",
       "      <td>1.687098e-15</td>\n",
       "      <td>-3.666453e-16</td>\n",
       "      <td>-1.220404e-16</td>\n",
       "      <td>88.349619</td>\n",
       "      <td>0.001727</td>\n",
       "    </tr>\n",
       "    <tr>\n",
       "      <th>std</th>\n",
       "      <td>47488.145955</td>\n",
       "      <td>1.958696e+00</td>\n",
       "      <td>1.651309e+00</td>\n",
       "      <td>1.516255e+00</td>\n",
       "      <td>1.415869e+00</td>\n",
       "      <td>1.380247e+00</td>\n",
       "      <td>1.332271e+00</td>\n",
       "      <td>1.237094e+00</td>\n",
       "      <td>1.194353e+00</td>\n",
       "      <td>1.098632e+00</td>\n",
       "      <td>...</td>\n",
       "      <td>7.345240e-01</td>\n",
       "      <td>7.257016e-01</td>\n",
       "      <td>6.244603e-01</td>\n",
       "      <td>6.056471e-01</td>\n",
       "      <td>5.212781e-01</td>\n",
       "      <td>4.822270e-01</td>\n",
       "      <td>4.036325e-01</td>\n",
       "      <td>3.300833e-01</td>\n",
       "      <td>250.120109</td>\n",
       "      <td>0.041527</td>\n",
       "    </tr>\n",
       "    <tr>\n",
       "      <th>min</th>\n",
       "      <td>0.000000</td>\n",
       "      <td>-5.640751e+01</td>\n",
       "      <td>-7.271573e+01</td>\n",
       "      <td>-4.832559e+01</td>\n",
       "      <td>-5.683171e+00</td>\n",
       "      <td>-1.137433e+02</td>\n",
       "      <td>-2.616051e+01</td>\n",
       "      <td>-4.355724e+01</td>\n",
       "      <td>-7.321672e+01</td>\n",
       "      <td>-1.343407e+01</td>\n",
       "      <td>...</td>\n",
       "      <td>-3.483038e+01</td>\n",
       "      <td>-1.093314e+01</td>\n",
       "      <td>-4.480774e+01</td>\n",
       "      <td>-2.836627e+00</td>\n",
       "      <td>-1.029540e+01</td>\n",
       "      <td>-2.604551e+00</td>\n",
       "      <td>-2.256568e+01</td>\n",
       "      <td>-1.543008e+01</td>\n",
       "      <td>0.000000</td>\n",
       "      <td>0.000000</td>\n",
       "    </tr>\n",
       "    <tr>\n",
       "      <th>25%</th>\n",
       "      <td>54201.500000</td>\n",
       "      <td>-9.203734e-01</td>\n",
       "      <td>-5.985499e-01</td>\n",
       "      <td>-8.903648e-01</td>\n",
       "      <td>-8.486401e-01</td>\n",
       "      <td>-6.915971e-01</td>\n",
       "      <td>-7.682956e-01</td>\n",
       "      <td>-5.540759e-01</td>\n",
       "      <td>-2.086297e-01</td>\n",
       "      <td>-6.430976e-01</td>\n",
       "      <td>...</td>\n",
       "      <td>-2.283949e-01</td>\n",
       "      <td>-5.423504e-01</td>\n",
       "      <td>-1.618463e-01</td>\n",
       "      <td>-3.545861e-01</td>\n",
       "      <td>-3.171451e-01</td>\n",
       "      <td>-3.269839e-01</td>\n",
       "      <td>-7.083953e-02</td>\n",
       "      <td>-5.295979e-02</td>\n",
       "      <td>5.600000</td>\n",
       "      <td>0.000000</td>\n",
       "    </tr>\n",
       "    <tr>\n",
       "      <th>50%</th>\n",
       "      <td>84692.000000</td>\n",
       "      <td>1.810880e-02</td>\n",
       "      <td>6.548556e-02</td>\n",
       "      <td>1.798463e-01</td>\n",
       "      <td>-1.984653e-02</td>\n",
       "      <td>-5.433583e-02</td>\n",
       "      <td>-2.741871e-01</td>\n",
       "      <td>4.010308e-02</td>\n",
       "      <td>2.235804e-02</td>\n",
       "      <td>-5.142873e-02</td>\n",
       "      <td>...</td>\n",
       "      <td>-2.945017e-02</td>\n",
       "      <td>6.781943e-03</td>\n",
       "      <td>-1.119293e-02</td>\n",
       "      <td>4.097606e-02</td>\n",
       "      <td>1.659350e-02</td>\n",
       "      <td>-5.213911e-02</td>\n",
       "      <td>1.342146e-03</td>\n",
       "      <td>1.124383e-02</td>\n",
       "      <td>22.000000</td>\n",
       "      <td>0.000000</td>\n",
       "    </tr>\n",
       "    <tr>\n",
       "      <th>75%</th>\n",
       "      <td>139320.500000</td>\n",
       "      <td>1.315642e+00</td>\n",
       "      <td>8.037239e-01</td>\n",
       "      <td>1.027196e+00</td>\n",
       "      <td>7.433413e-01</td>\n",
       "      <td>6.119264e-01</td>\n",
       "      <td>3.985649e-01</td>\n",
       "      <td>5.704361e-01</td>\n",
       "      <td>3.273459e-01</td>\n",
       "      <td>5.971390e-01</td>\n",
       "      <td>...</td>\n",
       "      <td>1.863772e-01</td>\n",
       "      <td>5.285536e-01</td>\n",
       "      <td>1.476421e-01</td>\n",
       "      <td>4.395266e-01</td>\n",
       "      <td>3.507156e-01</td>\n",
       "      <td>2.409522e-01</td>\n",
       "      <td>9.104512e-02</td>\n",
       "      <td>7.827995e-02</td>\n",
       "      <td>77.165000</td>\n",
       "      <td>0.000000</td>\n",
       "    </tr>\n",
       "    <tr>\n",
       "      <th>max</th>\n",
       "      <td>172792.000000</td>\n",
       "      <td>2.454930e+00</td>\n",
       "      <td>2.205773e+01</td>\n",
       "      <td>9.382558e+00</td>\n",
       "      <td>1.687534e+01</td>\n",
       "      <td>3.480167e+01</td>\n",
       "      <td>7.330163e+01</td>\n",
       "      <td>1.205895e+02</td>\n",
       "      <td>2.000721e+01</td>\n",
       "      <td>1.559499e+01</td>\n",
       "      <td>...</td>\n",
       "      <td>2.720284e+01</td>\n",
       "      <td>1.050309e+01</td>\n",
       "      <td>2.252841e+01</td>\n",
       "      <td>4.584549e+00</td>\n",
       "      <td>7.519589e+00</td>\n",
       "      <td>3.517346e+00</td>\n",
       "      <td>3.161220e+01</td>\n",
       "      <td>3.384781e+01</td>\n",
       "      <td>25691.160000</td>\n",
       "      <td>1.000000</td>\n",
       "    </tr>\n",
       "  </tbody>\n",
       "</table>\n",
       "<p>8 rows × 31 columns</p>\n",
       "</div>"
      ],
      "text/plain": [
       "                Time            V1            V2            V3            V4  \\\n",
       "count  284807.000000  2.848070e+05  2.848070e+05  2.848070e+05  2.848070e+05   \n",
       "mean    94813.859575  1.165980e-15  3.416908e-16 -1.373150e-15  2.086869e-15   \n",
       "std     47488.145955  1.958696e+00  1.651309e+00  1.516255e+00  1.415869e+00   \n",
       "min         0.000000 -5.640751e+01 -7.271573e+01 -4.832559e+01 -5.683171e+00   \n",
       "25%     54201.500000 -9.203734e-01 -5.985499e-01 -8.903648e-01 -8.486401e-01   \n",
       "50%     84692.000000  1.810880e-02  6.548556e-02  1.798463e-01 -1.984653e-02   \n",
       "75%    139320.500000  1.315642e+00  8.037239e-01  1.027196e+00  7.433413e-01   \n",
       "max    172792.000000  2.454930e+00  2.205773e+01  9.382558e+00  1.687534e+01   \n",
       "\n",
       "                 V5            V6            V7            V8            V9  \\\n",
       "count  2.848070e+05  2.848070e+05  2.848070e+05  2.848070e+05  2.848070e+05   \n",
       "mean   9.604066e-16  1.490107e-15 -5.556467e-16  1.177556e-16 -2.406455e-15   \n",
       "std    1.380247e+00  1.332271e+00  1.237094e+00  1.194353e+00  1.098632e+00   \n",
       "min   -1.137433e+02 -2.616051e+01 -4.355724e+01 -7.321672e+01 -1.343407e+01   \n",
       "25%   -6.915971e-01 -7.682956e-01 -5.540759e-01 -2.086297e-01 -6.430976e-01   \n",
       "50%   -5.433583e-02 -2.741871e-01  4.010308e-02  2.235804e-02 -5.142873e-02   \n",
       "75%    6.119264e-01  3.985649e-01  5.704361e-01  3.273459e-01  5.971390e-01   \n",
       "max    3.480167e+01  7.330163e+01  1.205895e+02  2.000721e+01  1.559499e+01   \n",
       "\n",
       "       ...           V21           V22           V23           V24  \\\n",
       "count  ...  2.848070e+05  2.848070e+05  2.848070e+05  2.848070e+05   \n",
       "mean   ...  1.656562e-16 -3.444850e-16  2.578648e-16  4.471968e-15   \n",
       "std    ...  7.345240e-01  7.257016e-01  6.244603e-01  6.056471e-01   \n",
       "min    ... -3.483038e+01 -1.093314e+01 -4.480774e+01 -2.836627e+00   \n",
       "25%    ... -2.283949e-01 -5.423504e-01 -1.618463e-01 -3.545861e-01   \n",
       "50%    ... -2.945017e-02  6.781943e-03 -1.119293e-02  4.097606e-02   \n",
       "75%    ...  1.863772e-01  5.285536e-01  1.476421e-01  4.395266e-01   \n",
       "max    ...  2.720284e+01  1.050309e+01  2.252841e+01  4.584549e+00   \n",
       "\n",
       "                V25           V26           V27           V28         Amount  \\\n",
       "count  2.848070e+05  2.848070e+05  2.848070e+05  2.848070e+05  284807.000000   \n",
       "mean   5.340915e-16  1.687098e-15 -3.666453e-16 -1.220404e-16      88.349619   \n",
       "std    5.212781e-01  4.822270e-01  4.036325e-01  3.300833e-01     250.120109   \n",
       "min   -1.029540e+01 -2.604551e+00 -2.256568e+01 -1.543008e+01       0.000000   \n",
       "25%   -3.171451e-01 -3.269839e-01 -7.083953e-02 -5.295979e-02       5.600000   \n",
       "50%    1.659350e-02 -5.213911e-02  1.342146e-03  1.124383e-02      22.000000   \n",
       "75%    3.507156e-01  2.409522e-01  9.104512e-02  7.827995e-02      77.165000   \n",
       "max    7.519589e+00  3.517346e+00  3.161220e+01  3.384781e+01   25691.160000   \n",
       "\n",
       "               Class  \n",
       "count  284807.000000  \n",
       "mean        0.001727  \n",
       "std         0.041527  \n",
       "min         0.000000  \n",
       "25%         0.000000  \n",
       "50%         0.000000  \n",
       "75%         0.000000  \n",
       "max         1.000000  \n",
       "\n",
       "[8 rows x 31 columns]"
      ]
     },
     "execution_count": 17,
     "metadata": {},
     "output_type": "execute_result"
    }
   ],
   "source": [
    "## writting the description of the data\n",
    "description = df.describe()\n",
    "print(\"description of the data is \")\n",
    "description"
   ]
  },
  {
   "cell_type": "markdown",
   "metadata": {},
   "source": [
    "We normalized the data to ensure that all features are on the same scale."
   ]
  },
  {
   "cell_type": "code",
   "execution_count": 18,
   "metadata": {},
   "outputs": [
    {
     "data": {
      "text/html": [
       "<div>\n",
       "<style scoped>\n",
       "    .dataframe tbody tr th:only-of-type {\n",
       "        vertical-align: middle;\n",
       "    }\n",
       "\n",
       "    .dataframe tbody tr th {\n",
       "        vertical-align: top;\n",
       "    }\n",
       "\n",
       "    .dataframe thead th {\n",
       "        text-align: right;\n",
       "    }\n",
       "</style>\n",
       "<table border=\"1\" class=\"dataframe\">\n",
       "  <thead>\n",
       "    <tr style=\"text-align: right;\">\n",
       "      <th></th>\n",
       "      <th>Time</th>\n",
       "      <th>V1</th>\n",
       "      <th>V2</th>\n",
       "      <th>V3</th>\n",
       "      <th>V4</th>\n",
       "      <th>V5</th>\n",
       "      <th>V6</th>\n",
       "      <th>V7</th>\n",
       "      <th>V8</th>\n",
       "      <th>V9</th>\n",
       "      <th>...</th>\n",
       "      <th>V21</th>\n",
       "      <th>V22</th>\n",
       "      <th>V23</th>\n",
       "      <th>V24</th>\n",
       "      <th>V25</th>\n",
       "      <th>V26</th>\n",
       "      <th>V27</th>\n",
       "      <th>V28</th>\n",
       "      <th>Amount</th>\n",
       "      <th>Class</th>\n",
       "    </tr>\n",
       "  </thead>\n",
       "  <tbody>\n",
       "    <tr>\n",
       "      <th>0</th>\n",
       "      <td>0.000000</td>\n",
       "      <td>0.935192</td>\n",
       "      <td>0.766490</td>\n",
       "      <td>0.881365</td>\n",
       "      <td>0.313023</td>\n",
       "      <td>0.763439</td>\n",
       "      <td>0.267669</td>\n",
       "      <td>0.266815</td>\n",
       "      <td>0.786444</td>\n",
       "      <td>0.475312</td>\n",
       "      <td>...</td>\n",
       "      <td>0.561184</td>\n",
       "      <td>0.522992</td>\n",
       "      <td>0.663793</td>\n",
       "      <td>0.391253</td>\n",
       "      <td>0.585122</td>\n",
       "      <td>0.394557</td>\n",
       "      <td>0.418976</td>\n",
       "      <td>0.312697</td>\n",
       "      <td>0.005824</td>\n",
       "      <td>0.0</td>\n",
       "    </tr>\n",
       "    <tr>\n",
       "      <th>1</th>\n",
       "      <td>0.000000</td>\n",
       "      <td>0.978542</td>\n",
       "      <td>0.770067</td>\n",
       "      <td>0.840298</td>\n",
       "      <td>0.271796</td>\n",
       "      <td>0.766120</td>\n",
       "      <td>0.262192</td>\n",
       "      <td>0.264875</td>\n",
       "      <td>0.786298</td>\n",
       "      <td>0.453981</td>\n",
       "      <td>...</td>\n",
       "      <td>0.557840</td>\n",
       "      <td>0.480237</td>\n",
       "      <td>0.666938</td>\n",
       "      <td>0.336440</td>\n",
       "      <td>0.587290</td>\n",
       "      <td>0.446013</td>\n",
       "      <td>0.416345</td>\n",
       "      <td>0.313423</td>\n",
       "      <td>0.000105</td>\n",
       "      <td>0.0</td>\n",
       "    </tr>\n",
       "    <tr>\n",
       "      <th>2</th>\n",
       "      <td>0.000006</td>\n",
       "      <td>0.935217</td>\n",
       "      <td>0.753118</td>\n",
       "      <td>0.868141</td>\n",
       "      <td>0.268766</td>\n",
       "      <td>0.762329</td>\n",
       "      <td>0.281122</td>\n",
       "      <td>0.270177</td>\n",
       "      <td>0.788042</td>\n",
       "      <td>0.410603</td>\n",
       "      <td>...</td>\n",
       "      <td>0.565477</td>\n",
       "      <td>0.546030</td>\n",
       "      <td>0.678939</td>\n",
       "      <td>0.289354</td>\n",
       "      <td>0.559515</td>\n",
       "      <td>0.402727</td>\n",
       "      <td>0.415489</td>\n",
       "      <td>0.311911</td>\n",
       "      <td>0.014739</td>\n",
       "      <td>0.0</td>\n",
       "    </tr>\n",
       "    <tr>\n",
       "      <th>3</th>\n",
       "      <td>0.000006</td>\n",
       "      <td>0.941878</td>\n",
       "      <td>0.765304</td>\n",
       "      <td>0.868484</td>\n",
       "      <td>0.213661</td>\n",
       "      <td>0.765647</td>\n",
       "      <td>0.275559</td>\n",
       "      <td>0.266803</td>\n",
       "      <td>0.789434</td>\n",
       "      <td>0.414999</td>\n",
       "      <td>...</td>\n",
       "      <td>0.559734</td>\n",
       "      <td>0.510277</td>\n",
       "      <td>0.662607</td>\n",
       "      <td>0.223826</td>\n",
       "      <td>0.614245</td>\n",
       "      <td>0.389197</td>\n",
       "      <td>0.417669</td>\n",
       "      <td>0.314371</td>\n",
       "      <td>0.004807</td>\n",
       "      <td>0.0</td>\n",
       "    </tr>\n",
       "    <tr>\n",
       "      <th>4</th>\n",
       "      <td>0.000012</td>\n",
       "      <td>0.938617</td>\n",
       "      <td>0.776520</td>\n",
       "      <td>0.864251</td>\n",
       "      <td>0.269796</td>\n",
       "      <td>0.762975</td>\n",
       "      <td>0.263984</td>\n",
       "      <td>0.268968</td>\n",
       "      <td>0.782484</td>\n",
       "      <td>0.490950</td>\n",
       "      <td>...</td>\n",
       "      <td>0.561327</td>\n",
       "      <td>0.547271</td>\n",
       "      <td>0.663392</td>\n",
       "      <td>0.401270</td>\n",
       "      <td>0.566343</td>\n",
       "      <td>0.507497</td>\n",
       "      <td>0.420561</td>\n",
       "      <td>0.317490</td>\n",
       "      <td>0.002724</td>\n",
       "      <td>0.0</td>\n",
       "    </tr>\n",
       "  </tbody>\n",
       "</table>\n",
       "<p>5 rows × 31 columns</p>\n",
       "</div>"
      ],
      "text/plain": [
       "       Time        V1        V2        V3        V4        V5        V6  \\\n",
       "0  0.000000  0.935192  0.766490  0.881365  0.313023  0.763439  0.267669   \n",
       "1  0.000000  0.978542  0.770067  0.840298  0.271796  0.766120  0.262192   \n",
       "2  0.000006  0.935217  0.753118  0.868141  0.268766  0.762329  0.281122   \n",
       "3  0.000006  0.941878  0.765304  0.868484  0.213661  0.765647  0.275559   \n",
       "4  0.000012  0.938617  0.776520  0.864251  0.269796  0.762975  0.263984   \n",
       "\n",
       "         V7        V8        V9  ...       V21       V22       V23       V24  \\\n",
       "0  0.266815  0.786444  0.475312  ...  0.561184  0.522992  0.663793  0.391253   \n",
       "1  0.264875  0.786298  0.453981  ...  0.557840  0.480237  0.666938  0.336440   \n",
       "2  0.270177  0.788042  0.410603  ...  0.565477  0.546030  0.678939  0.289354   \n",
       "3  0.266803  0.789434  0.414999  ...  0.559734  0.510277  0.662607  0.223826   \n",
       "4  0.268968  0.782484  0.490950  ...  0.561327  0.547271  0.663392  0.401270   \n",
       "\n",
       "        V25       V26       V27       V28    Amount  Class  \n",
       "0  0.585122  0.394557  0.418976  0.312697  0.005824    0.0  \n",
       "1  0.587290  0.446013  0.416345  0.313423  0.000105    0.0  \n",
       "2  0.559515  0.402727  0.415489  0.311911  0.014739    0.0  \n",
       "3  0.614245  0.389197  0.417669  0.314371  0.004807    0.0  \n",
       "4  0.566343  0.507497  0.420561  0.317490  0.002724    0.0  \n",
       "\n",
       "[5 rows x 31 columns]"
      ]
     },
     "execution_count": 18,
     "metadata": {},
     "output_type": "execute_result"
    }
   ],
   "source": [
    "from sklearn.preprocessing import MinMaxScaler\n",
    "\n",
    "scaler = MinMaxScaler()\n",
    "normalized_data = scaler.fit_transform(df)\n",
    "normalized_df = pd.DataFrame(normalized_data, columns=df.columns)\n",
    "\n",
    "normalized_df.head()\n"
   ]
  },
  {
   "cell_type": "markdown",
   "metadata": {},
   "source": [
    "__SPLITTING DATA__\n",
    "- Split the data into two classes: Fraud and non-fraud.\n",
    "- Further divide the non-fraud class into a training set and a test set in a 0.8:0.2 ratio.\n",
    "- Split the training set for the non-fraud class into a training set and a validation set in a 0.8:0.2 ratio.\n",
    "- Use the training set for the non-fraud class exclusively for training the autoencoders and variational autoencoders.\n",
    "- Do not use the fraud class data during the training process.\n",
    "- Split the fraud class data into a validation set and a test set in a 0.5:0.5 ratio.\n",
    "- Utilize the validation set for the fraud class to tune hyperparameters.\n"
   ]
  },
  {
   "cell_type": "code",
   "execution_count": 19,
   "metadata": {},
   "outputs": [],
   "source": [
    "## splitting the data into fraud and nonfraud class\n",
    "df_nonfraud = normalized_df[normalized_df['Class'] == 0]\n",
    "df_fraud = normalized_df[normalized_df['Class'] == 1]\n",
    "\n",
    "## splitting the data into training and testing\n",
    "from sklearn.model_selection import train_test_split \n",
    "\n",
    "## for the nonfraud dataset\n",
    "X_nonfraud = df_nonfraud.drop(columns=['Class']) \n",
    "y_nonfraud = df_nonfraud['Class']  \n",
    "\n",
    "X_train_nf, X_test_nf, y_train_nf, y_test_nf = train_test_split(X_nonfraud, y_nonfraud, test_size=0.2, random_state=42)\n",
    "X_train_nf, X_val_nf, y_train_nf, y_val_nf = train_test_split(X_train_nf, y_train_nf, test_size=0.25, random_state=42)\n",
    "\n",
    "## for the fraud dataset\n",
    "X_fraud = df_fraud.drop(columns=['Class'])  \n",
    "y_fraud = df_fraud['Class']  \n",
    "\n",
    "X_val_f, X_test_f, y_val_f, y_test_f = train_test_split(X_fraud, y_fraud, test_size=0.5, random_state=42)"
   ]
  },
  {
   "cell_type": "markdown",
   "metadata": {},
   "source": [
    "We prepare the following datasets:\n",
    "- Training data\n",
    "- Validation data\n",
    "- Validation labels\n",
    "- Test data\n",
    "- Test labels\n"
   ]
  },
  {
   "cell_type": "code",
   "execution_count": 20,
   "metadata": {},
   "outputs": [],
   "source": [
    "X_train = X_train_nf\n",
    "\n",
    "val_data_x = np.concatenate((X_val_nf,X_val_f))\n",
    "val_labels = np.concatenate((y_val_nf,y_val_f))\n",
    "\n",
    "test_data_x = np.concatenate((X_test_nf,X_test_f))\n",
    "\n",
    "t_nf = y_test_nf.shape[0]\n",
    "t_f = y_test_f.shape[0]\n",
    "test_labels = np.concatenate((y_test_nf,y_test_f))"
   ]
  },
  {
   "cell_type": "markdown",
   "metadata": {},
   "source": [
    "### Architecture Autoencoder \n",
    "\n",
    "- Implemented code in PyTorch\n",
    "\n",
    "###### Encoder Architecture:\n",
    "\n",
    "  - Input layer: (30, 14) linear transformation followed by the RELU activation function.\n",
    "  - Hidden layer: (14, 7) linear transformation followed by the RELU activation function.\n",
    "\n",
    "###### Decoder Architecture:\n",
    "\n",
    "  - Hidden layer: (7, 14) linear transformation followed by the RELU activation function.\n",
    "  - Output layer: (14, 30) linear transformation followed by the sigmoid activation function.\n",
    "    - The sigmoid activation ensures that the output values are within the range [0, 1], consistent with the input data.\n",
    "\n",
    "###### Loss Function:\n",
    "- Using the Mean Squared Error (MSE) loss function to minimize the reconstruction loss.\n",
    "  - Objective: to minimize the difference between the output and the input, aiming to reconstruct the input data as accurately as possible.\n",
    "\n",
    "###### Optimizer:\n",
    "  - Utilizing the Adam optimizer with a learning rate of 0.01 for training the model.\n"
   ]
  },
  {
   "cell_type": "code",
   "execution_count": 21,
   "metadata": {},
   "outputs": [
    {
     "name": "stdout",
     "output_type": "stream",
     "text": [
      "Epoch 1, Loss: 20.698291229491588\n",
      "Epoch 2, Loss: 10.504863478825428\n",
      "Epoch 3, Loss: 8.818229493364925\n",
      "Epoch 4, Loss: 8.69041367751197\n",
      "Epoch 5, Loss: 8.644033664982999\n",
      "Epoch 6, Loss: 8.619011367904022\n",
      "Epoch 7, Loss: 8.605101719935192\n",
      "Epoch 8, Loss: 8.58146479880088\n",
      "Epoch 9, Loss: 8.531570939725498\n",
      "Epoch 10, Loss: 8.519358234101674\n",
      "Epoch 11, Loss: 8.510024494637037\n",
      "Epoch 12, Loss: 8.465366838994669\n",
      "Epoch 13, Loss: 8.425464952364564\n",
      "Epoch 14, Loss: 8.411410450993571\n",
      "Epoch 15, Loss: 8.404839937313227\n",
      "Epoch 16, Loss: 8.399830773327267\n",
      "Epoch 17, Loss: 8.396583535533864\n",
      "Epoch 18, Loss: 8.392401369375875\n",
      "Epoch 19, Loss: 8.391442767053377\n",
      "Epoch 20, Loss: 8.387907505966723\n",
      "Epoch 21, Loss: 8.376739367697155\n",
      "Epoch 22, Loss: 8.363860193319852\n",
      "Epoch 23, Loss: 8.354704928206047\n",
      "Epoch 24, Loss: 8.349455132993171\n",
      "Epoch 25, Loss: 8.345611365046352\n",
      "Epoch 26, Loss: 8.346434942359338\n",
      "Epoch 27, Loss: 8.343383877450833\n",
      "Epoch 28, Loss: 8.342189484712435\n",
      "Epoch 29, Loss: 8.33841108091292\n",
      "Epoch 30, Loss: 8.333989461825695\n",
      "Epoch 31, Loss: 8.323678544955328\n",
      "Epoch 32, Loss: 8.312341812881641\n",
      "Epoch 33, Loss: 8.304696016333764\n",
      "Epoch 34, Loss: 8.298644782073097\n",
      "Epoch 35, Loss: 8.296588461002102\n",
      "Epoch 36, Loss: 8.293169250915525\n",
      "Epoch 37, Loss: 8.292764472513227\n",
      "Epoch 38, Loss: 8.293676151981344\n",
      "Epoch 39, Loss: 8.292438143864274\n",
      "Epoch 40, Loss: 8.291264575760579\n",
      "Epoch 41, Loss: 8.291245321714086\n",
      "Epoch 42, Loss: 8.291281928337412\n",
      "Epoch 43, Loss: 8.294739661068888\n",
      "Epoch 44, Loss: 8.289535111078294\n",
      "Epoch 45, Loss: 8.29063989626593\n",
      "Epoch 46, Loss: 8.29263477792847\n",
      "Epoch 47, Loss: 8.288638499885565\n",
      "Epoch 48, Loss: 8.291524731903337\n",
      "Epoch 49, Loss: 8.290235563647002\n",
      "Epoch 50, Loss: 8.286794674699195\n"
     ]
    }
   ],
   "source": [
    "import torch\n",
    "import torch.nn as nn\n",
    "import torch.optim as optim\n",
    "from torch.utils.data import DataLoader, TensorDataset\n",
    "\n",
    "# Convert training data to tensor\n",
    "data_tensor = torch.tensor(X_train.values, dtype=torch.float)\n",
    "\n",
    "# Define the Autoencoder model\n",
    "class Autoencoder(nn.Module):\n",
    "    def __init__(self):\n",
    "        super(Autoencoder, self).__init__()\n",
    "        self.encoder = nn.Sequential(\n",
    "            nn.Linear(30,14),\n",
    "            nn.ReLU(),\n",
    "            nn.Linear(14,7),\n",
    "            nn.ReLU(),\n",
    "        )\n",
    "        self.decoder = nn.Sequential(\n",
    "            nn.Linear(7, 14),\n",
    "            nn.ReLU(),\n",
    "            nn.Linear(14,30),\n",
    "            nn.Sigmoid()\n",
    "        )\n",
    "\n",
    "    def forward(self, x):\n",
    "        encoded = self.encoder(x)\n",
    "        decoded = self.decoder(encoded)\n",
    "        return decoded\n",
    "\n",
    "# Instantiate the Autoencoder model\n",
    "ae = Autoencoder()\n",
    "\n",
    "# Define loss function and optimizer\n",
    "criterion = nn.MSELoss()\n",
    "optimizer = optim.Adam(ae.parameters(), lr=0.001)\n",
    "\n",
    "# Convert data to PyTorch DataLoader\n",
    "train_dataset = TensorDataset(data_tensor, data_tensor)\n",
    "train_loader = DataLoader(train_dataset, batch_size=16, shuffle=True)\n",
    "\n",
    "# Training loop\n",
    "for epoch in range(50):\n",
    "    running_loss = 0.0\n",
    "    for inputs, _ in train_loader:\n",
    "        optimizer.zero_grad()\n",
    "        outputs = ae(inputs)\n",
    "        loss = criterion(outputs, inputs)\n",
    "        loss.backward()\n",
    "        optimizer.step()\n",
    "        running_loss += loss.item()\n",
    "    print(f\"Epoch {epoch+1}, Loss: {running_loss}\")\n"
   ]
  },
  {
   "cell_type": "markdown",
   "metadata": {},
   "source": [
    "- We compute the reconstruction loss of the training dataset, which consists of the non-fraud dataset.\n",
    "- We calculate the mean and standard deviation of the reconstruction loss of the training dataset. These statistics will be used to determine the threshold."
   ]
  },
  {
   "cell_type": "code",
   "execution_count": 22,
   "metadata": {},
   "outputs": [],
   "source": [
    "data_tensor = torch.tensor(X_train.values, dtype=torch.float)\n",
    "complete_loader = DataLoader(TensorDataset(data_tensor, data_tensor), batch_size=1, shuffle=False)\n",
    "reconstructed_loss = [criterion(ae(inputs), inputs).item() for inputs, _ in complete_loader]\n",
    "reconstructed_loss_df = pd.DataFrame(reconstructed_loss)\n",
    "re_statistics = reconstructed_loss_df.describe()\n",
    "mean_value = re_statistics.loc['mean'].values[0]  # Extract mean value\n",
    "std_value = re_statistics.loc['std'].values[0]\n"
   ]
  },
  {
   "cell_type": "markdown",
   "metadata": {},
   "source": [
    "- We compute the reconstruction loss of the validation dataset."
   ]
  },
  {
   "cell_type": "code",
   "execution_count": 23,
   "metadata": {},
   "outputs": [],
   "source": [
    "data_tensor = torch.tensor(val_data_x, dtype=torch.float)\n",
    "complete_loader = DataLoader(TensorDataset(data_tensor, data_tensor), batch_size=1, shuffle=False)\n",
    "reconstructed_loss_val = [criterion(ae(inputs), inputs).item() for inputs, _ in complete_loader]"
   ]
  },
  {
   "cell_type": "markdown",
   "metadata": {},
   "source": [
    "- We define a range of threshold values based on the mean and standard deviation of the reconstruction loss.\n",
    "- We classify the validation data for each threshold and calculate precision, recall, and accuracy.\n",
    "- The threshold value for which we achieve the highest sum of precision and recall is chosen as the optimal threshold.\n"
   ]
  },
  {
   "cell_type": "code",
   "execution_count": 24,
   "metadata": {},
   "outputs": [
    {
     "name": "stdout",
     "output_type": "stream",
     "text": [
      "Best Threshold: 0.00814578651504541\n",
      "Best Precision: 0.5576923076923077\n",
      "Best Recall: 0.5894308943089431\n",
      "Best Accuracy: 0.9962177590222207\n"
     ]
    }
   ],
   "source": [
    "from sklearn.metrics import precision_score, recall_score, accuracy_score\n",
    "\n",
    "# Range of threshold values\n",
    "start_threshold = mean_value - 1 * std_value\n",
    "end_threshold = mean_value + 15 * std_value\n",
    "threshold_values = np.linspace(start_threshold, end_threshold, num=200)\n",
    "\n",
    "# Initialize variables to store the best threshold and corresponding metrics\n",
    "best_threshold = None\n",
    "best_precision = 0\n",
    "best_recall = 0\n",
    "best_accuracy = 0\n",
    "\n",
    "\n",
    "precisions = []\n",
    "recalls = []\n",
    "accuracies = []\n",
    "# Iterate over the range of threshold values\n",
    "for th in threshold_values:\n",
    "    # Generate predicted labels based on the current threshold\n",
    "    preds_labels = [0 if r < th else 1 for r in reconstructed_loss_val]\n",
    "    \n",
    "    # Calculate precision, recall, and accuracy\n",
    "    precision = precision_score(val_labels, preds_labels)\n",
    "    recall = recall_score(val_labels, preds_labels)\n",
    "    accuracy = accuracy_score(val_labels, preds_labels)\n",
    "\n",
    "    precisions.append(precision)\n",
    "    recalls.append(recall)\n",
    "    accuracies.append(accuracy)\n",
    "    \n",
    "    # Update the best threshold and corresponding metrics if necessary\n",
    "    if precision + recall > best_precision + best_recall:\n",
    "        best_precision = precision\n",
    "        best_recall = recall\n",
    "        best_accuracy = accuracy\n",
    "        best_threshold = th\n",
    "\n",
    "print(\"Best Threshold:\", best_threshold)\n",
    "print(\"Best Precision:\", best_precision)\n",
    "print(\"Best Recall:\", best_recall)\n",
    "print(\"Best Accuracy:\", best_accuracy)\n"
   ]
  },
  {
   "cell_type": "markdown",
   "metadata": {},
   "source": [
    "- We plot the precision, recall, and accuracy curves against the threshold values.\n"
   ]
  },
  {
   "cell_type": "code",
   "execution_count": 25,
   "metadata": {},
   "outputs": [
    {
     "name": "stdout",
     "output_type": "stream",
     "text": [
      "0.00814578651504541\n"
     ]
    },
    {
     "data": {
      "image/png": "[encoded data removed]",
      "text/plain": [
       "<Figure size 432x288 with 1 Axes>"
      ]
     },
     "metadata": {
      "needs_background": "light"
     },
     "output_type": "display_data"
    }
   ],
   "source": [
    "# Plot precision, recall, and accuracy vs. threshold\n",
    "plt.plot(threshold_values, precisions, label='Precision')\n",
    "plt.plot(threshold_values, recalls, label='Recall')\n",
    "plt.plot(threshold_values, accuracies, label='Accuracy')\n",
    "plt.xlabel('Threshold')\n",
    "plt.ylabel('Metric Value')\n",
    "plt.title('Precision, Recall, and Accuracy vs. Threshold')\n",
    "best_threshold_index = np.argmax(np.array(precisions) + np.array(recalls))\n",
    "best_threshold = threshold_values[best_threshold_index]\n",
    "print(best_threshold)\n",
    "plt.axvline(x=best_threshold, color='r', linestyle='--', label=f'Best Threshold = {best_threshold:.2f}')\n",
    "plt.legend()\n",
    "plt.legend()\n",
    "plt.grid(True)\n",
    "plt.show()"
   ]
  },
  {
   "cell_type": "markdown",
   "metadata": {},
   "source": [
    "- We compute the reconstruction loss of the test dataset."
   ]
  },
  {
   "cell_type": "code",
   "execution_count": 26,
   "metadata": {},
   "outputs": [],
   "source": [
    "data_tensor = torch.tensor(test_data_x, dtype=torch.float)\n",
    "complete_loader = DataLoader(TensorDataset(data_tensor, data_tensor), batch_size=1, shuffle=False)\n",
    "reconstructed_loss_test = [criterion(ae(inputs), inputs).item() for inputs, _ in complete_loader]"
   ]
  },
  {
   "cell_type": "markdown",
   "metadata": {},
   "source": [
    "- We predict the labels of the test data based to optimal threshold."
   ]
  },
  {
   "cell_type": "code",
   "execution_count": 27,
   "metadata": {},
   "outputs": [],
   "source": [
    "th = best_threshold\n",
    "preds_test = [0 if r < th else 1 for r in reconstructed_loss_test]"
   ]
  },
  {
   "cell_type": "markdown",
   "metadata": {},
   "source": [
    "- We plot the reconstruction loss of the test dataset along with the threshold line.\n"
   ]
  },
  {
   "cell_type": "code",
   "execution_count": 28,
   "metadata": {},
   "outputs": [
    {
     "name": "stdout",
     "output_type": "stream",
     "text": [
      "56863\n",
      "246\n"
     ]
    },
    {
     "data": {
      "image/png": "[encoded data removed]",
      "text/plain": [
       "<Figure size 720x432 with 1 Axes>"
      ]
     },
     "metadata": {
      "needs_background": "light"
     },
     "output_type": "display_data"
    }
   ],
   "source": [
    "import matplotlib.pyplot as plt\n",
    "\n",
    "reconstructed_loss_test_nf = reconstructed_loss_test[:t_nf]\n",
    "print(len(reconstructed_loss_test_nf))\n",
    "\n",
    "reconstructed_loss_test_f = reconstructed_loss_test[t_nf:]\n",
    "print(len(reconstructed_loss_test_f))\n",
    "\n",
    "plt.figure(figsize=(10, 6))\n",
    "plt.scatter(range(len(reconstructed_loss_test_f)), reconstructed_loss_test_f, c='blue', label='Reconstructed Loss - Fraud')\n",
    "\n",
    "plt.scatter(range(len(reconstructed_loss_test_nf)), reconstructed_loss_test_nf, c='red', label='Reconstructed Loss - Non-Fraud')\n",
    "plt.axhline(y=th, color='green', linestyle='--', label=f'Threshold = {th}')\n",
    "plt.xlabel('Index')\n",
    "plt.ylabel('Reconstructed Loss')\n",
    "plt.title('Scatter Plot of Reconstructed Loss for Fraud and Non-Fraud')\n",
    "plt.legend()\n",
    "plt.grid(True)\n",
    "plt.show()\n"
   ]
  },
  {
   "cell_type": "markdown",
   "metadata": {},
   "source": [
    "__RESULTS__"
   ]
  },
  {
   "cell_type": "markdown",
   "metadata": {},
   "source": [
    "- We get the accuracy of 0..9963753523962948"
   ]
  },
  {
   "cell_type": "code",
   "execution_count": 29,
   "metadata": {},
   "outputs": [
    {
     "name": "stdout",
     "output_type": "stream",
     "text": [
      "Accuracy: 0.9967430702691344\n"
     ]
    }
   ],
   "source": [
    "accuracy = accuracy_score(test_labels, preds_test)\n",
    "print(\"Accuracy:\", accuracy)"
   ]
  },
  {
   "cell_type": "markdown",
   "metadata": {},
   "source": [
    "- We plot the ROC Curve.\n",
    "- We find the aread under curve which is 0.80"
   ]
  },
  {
   "cell_type": "code",
   "execution_count": 30,
   "metadata": {},
   "outputs": [
    {
     "data": {
      "image/png": "[encoded data removed]",
      "text/plain": [
       "<Figure size 432x288 with 1 Axes>"
      ]
     },
     "metadata": {
      "needs_background": "light"
     },
     "output_type": "display_data"
    },
    {
     "name": "stdout",
     "output_type": "stream",
     "text": [
      "0.8000392184953451\n"
     ]
    }
   ],
   "source": [
    "from sklearn.metrics import roc_curve,roc_auc_score\n",
    "\n",
    "#potting roc curve\n",
    "fpr, tpr, thresholds = roc_curve(test_labels, preds_test)\n",
    "\n",
    "plt.plot(fpr, tpr, color = 'orange', label = \"ROC\")\n",
    "plt.plot([0,1],[0,1], color='darkblue', linestyle=\"--\",label = \"Guessing\")\n",
    "plt.xlabel(\"false positive rate\")\n",
    "plt.ylabel(\"true positive rate\")\n",
    "plt.title(\"Roc_curve\")\n",
    "plt.legend()\n",
    "plt.show()\n",
    "\n",
    "\n",
    "auc_score = roc_auc_score(test_labels, preds_test)\n",
    "print(auc_score)\n"
   ]
  },
  {
   "cell_type": "markdown",
   "metadata": {},
   "source": [
    "- We find the confusion matrix of the test data set"
   ]
  },
  {
   "cell_type": "code",
   "execution_count": 31,
   "metadata": {},
   "outputs": [
    {
     "data": {
      "image/png": "[encoded data removed]",
      "text/plain": [
       "<Figure size 576x432 with 2 Axes>"
      ]
     },
     "metadata": {
      "needs_background": "light"
     },
     "output_type": "display_data"
    }
   ],
   "source": [
    "## confusion matrix\n",
    "from sklearn.metrics import confusion_matrix\n",
    "import seaborn as sns\n",
    "\n",
    "conf_mat = confusion_matrix(test_labels, preds_test)\n",
    "\n",
    "\n",
    "classes = np.unique(test_labels)\n",
    "\n",
    "plt.figure(figsize=(8, 6))\n",
    "sns.heatmap(conf_mat, annot=True, fmt='d', cmap='Blues', xticklabels=classes, yticklabels=classes)\n",
    "plt.xlabel('Predicted labels')\n",
    "plt.ylabel('True labels')\n",
    "plt.title('Confusion Matrix')\n",
    "plt.show()"
   ]
  },
  {
   "cell_type": "markdown",
   "metadata": {},
   "source": [
    "-We get the F1 score for autoencoder 0.61"
   ]
  },
  {
   "cell_type": "code",
   "execution_count": 32,
   "metadata": {},
   "outputs": [
    {
     "name": "stdout",
     "output_type": "stream",
     "text": [
      "              precision    recall  f1-score   support\n",
      "\n",
      "         0.0       1.00      1.00      1.00     56863\n",
      "         1.0       0.63      0.60      0.61       246\n",
      "\n",
      "    accuracy                           1.00     57109\n",
      "   macro avg       0.81      0.80      0.81     57109\n",
      "weighted avg       1.00      1.00      1.00     57109\n",
      "\n"
     ]
    }
   ],
   "source": [
    "from sklearn.metrics import classification_report\n",
    "print(classification_report(test_labels, preds_test))\n"
   ]
  },
  {
   "cell_type": "markdown",
   "metadata": {},
   "source": [
    "### Variational Autoencoder (VAE) Architecture\n",
    "\n",
    "- **Input Dimension**: 30 (Specified by `input_dim`)\n",
    "- **Latent Dimension**: 7 (Specified by `latent_dim`)\n",
    "\n",
    "#### Encoder Architecture:\n",
    "- Input Layer: Fully connected layer with 30 input features, followed by ReLU activation.\n",
    "- Hidden Layer: Fully connected layer with 14 units, followed by ReLU activation.\n",
    "- Output Layer: Fully connected layer with `2 * latent_dim` units (14 units for each mean and log-variance of the latent space), followed by ReLU activation.\n",
    "\n",
    "#### Decoder Architecture:\n",
    "- Input Layer: Fully connected layer with `latent_dim` units, followed by ReLU activation.\n",
    "- Hidden Layer: Fully connected layer with 14 units, followed by ReLU activation.\n",
    "- Output Layer: Fully connected layer with 30 units (same as input dimension), followed by Sigmoid activation to constrain output values between 0 and 1.\n",
    "\n",
    "#### Loss Function:\n",
    "- **Reconstruction Loss (MSE)**: Measures the average squared difference between reconstructed output and original input. Encourages accurate data reconstruction.\n",
    "- **KL Divergence**: Compares the inferred latent distribution to a standard normal distribution. Encourages a well-structured latent space resembling the standard distribution.\n",
    "\n",
    "#### Optimizer:\n",
    "Adam optimizer with a learning rate of 0.001 is used for training the VAE.\n"
   ]
  },
  {
   "cell_type": "code",
   "execution_count": 33,
   "metadata": {},
   "outputs": [
    {
     "name": "stdout",
     "output_type": "stream",
     "text": [
      "Epoch 1, Loss: 0.1533\n",
      "Epoch 2, Loss: 0.1241\n",
      "Epoch 3, Loss: 0.1240\n",
      "Epoch 4, Loss: 0.1240\n",
      "Epoch 5, Loss: 0.1240\n",
      "Epoch 6, Loss: 0.1239\n",
      "Epoch 7, Loss: 0.1239\n",
      "Epoch 8, Loss: 0.1239\n",
      "Epoch 9, Loss: 0.1239\n",
      "Epoch 10, Loss: 0.1239\n",
      "Epoch 11, Loss: 0.1239\n",
      "Epoch 12, Loss: 0.1239\n",
      "Epoch 13, Loss: 0.1239\n",
      "Epoch 14, Loss: 0.1239\n",
      "Epoch 15, Loss: 0.1239\n",
      "Epoch 16, Loss: 0.1239\n",
      "Epoch 17, Loss: 0.1239\n",
      "Epoch 18, Loss: 0.1239\n",
      "Epoch 19, Loss: 0.1239\n",
      "Epoch 20, Loss: 0.1239\n",
      "Epoch 21, Loss: 0.1239\n",
      "Epoch 22, Loss: 0.1239\n",
      "Epoch 23, Loss: 0.1239\n",
      "Epoch 24, Loss: 0.1239\n",
      "Epoch 25, Loss: 0.1239\n",
      "Epoch 26, Loss: 0.1239\n",
      "Epoch 27, Loss: 0.1239\n",
      "Epoch 28, Loss: 0.1239\n",
      "Epoch 29, Loss: 0.1239\n",
      "Epoch 30, Loss: 0.1239\n",
      "Epoch 31, Loss: 0.1239\n",
      "Epoch 32, Loss: 0.1239\n",
      "Epoch 33, Loss: 0.1239\n",
      "Epoch 34, Loss: 0.1239\n",
      "Epoch 35, Loss: 0.1239\n",
      "Epoch 36, Loss: 0.1239\n",
      "Epoch 37, Loss: 0.1239\n",
      "Epoch 38, Loss: 0.1239\n",
      "Epoch 39, Loss: 0.1239\n",
      "Epoch 40, Loss: 0.1239\n",
      "Epoch 41, Loss: 0.1239\n",
      "Epoch 42, Loss: 0.1239\n",
      "Epoch 43, Loss: 0.1239\n",
      "Epoch 44, Loss: 0.1238\n",
      "Epoch 45, Loss: 0.1238\n",
      "Epoch 46, Loss: 0.1238\n",
      "Epoch 47, Loss: 0.1238\n",
      "Epoch 48, Loss: 0.1238\n",
      "Epoch 49, Loss: 0.1238\n",
      "Epoch 50, Loss: 0.1238\n"
     ]
    }
   ],
   "source": [
    " \n",
    "data_tensor = torch.tensor(X_train.values, dtype=torch.float)\n",
    "\n",
    "# Define the VAE model\n",
    "class VAE(nn.Module):\n",
    "    def __init__(self, input_dim, latent_dim):\n",
    "        super(VAE, self).__init__()\n",
    "        self.encoder = nn.Sequential(\n",
    "            nn.Linear(input_dim, 14),\n",
    "            nn.ReLU(),\n",
    "            nn.Linear(14, latent_dim*2),\n",
    "            nn.ReLU(),\n",
    "        )\n",
    "        self.decoder = nn.Sequential(\n",
    "            nn.Linear(latent_dim, 14),\n",
    "            nn.ReLU(),\n",
    "            nn.Linear(14, input_dim),\n",
    "            nn.Sigmoid()  # Output values between 0 and 1\n",
    "        )\n",
    "\n",
    "    def reparameterize(self, mu, logvar):\n",
    "        std = torch.exp(0.5 * logvar)\n",
    "        eps = torch.randn_like(std)\n",
    "        return mu + eps * std\n",
    "\n",
    "    def forward(self, x):\n",
    "        latent_stats = self.encoder(x)\n",
    "        mu, logvar = latent_stats[:, :latent_dim], latent_stats[:, latent_dim:]\n",
    "        z = self.reparameterize(mu, logvar)\n",
    "        recon_x = self.decoder(z)\n",
    "        return recon_x, mu, logvar\n",
    "\n",
    "# Define the loss function for VAE\n",
    "def vae_loss(recon_x, mu, logvar, x):\n",
    "    recon_loss = nn.functional.mse_loss(recon_x, x, reduction='sum')\n",
    "    kl_divergence = -0.5 * torch.sum(1 + logvar - mu.pow(2) - logvar.exp())\n",
    "    return recon_loss + kl_divergence\n",
    "\n",
    "train_dataset = TensorDataset(data_tensor, data_tensor)\n",
    "train_loader = DataLoader(train_dataset, batch_size=32, shuffle=True)\n",
    "\n",
    "input_dim = 30 \n",
    "latent_dim = 7  # Latent space dimensionality\n",
    "vae = VAE(input_dim, latent_dim)\n",
    "\n",
    "# Set up the optimizer\n",
    "optimizer = optim.Adam(vae.parameters(), lr=1e-3)\n",
    "\n",
    "# Training loop\n",
    "num_epochs = 50\n",
    "for epoch in range(num_epochs):\n",
    "    vae.train()\n",
    "    total_loss = 0\n",
    "    for batch_idx, (data, _) in enumerate(train_loader):\n",
    "        # data = data.view(-1, input_dim)  # Flatten the images\n",
    "        optimizer.zero_grad()\n",
    "        recon_batch, mu, logvar = vae(data)\n",
    "        loss = vae_loss(recon_batch, mu, logvar, data)\n",
    "        loss.backward()\n",
    "        optimizer.step()\n",
    "        total_loss += loss.item()\n",
    "    print('Epoch {}, Loss: {:.4f}'.format(epoch + 1, total_loss / len(train_loader.dataset)))\n"
   ]
  },
  {
   "cell_type": "markdown",
   "metadata": {},
   "source": [
    "- We compute the reconstruction loss of the training dataset, which consists of the non-fraud dataset.\n",
    "- We calculate the mean and standard deviation of the reconstruction loss of the training dataset. These statistics will be used to determine the threshold."
   ]
  },
  {
   "cell_type": "code",
   "execution_count": 34,
   "metadata": {},
   "outputs": [
    {
     "name": "stdout",
     "output_type": "stream",
     "text": [
      "                   0\n",
      "count  170589.000000\n",
      "mean        0.123850\n",
      "std         0.075877\n",
      "min         0.009928\n",
      "25%         0.068888\n",
      "50%         0.109455\n",
      "75%         0.161484\n",
      "max         3.443079\n"
     ]
    }
   ],
   "source": [
    "data_tensor = torch.tensor(X_train.values, dtype=torch.float)\n",
    "complete_loader = DataLoader(TensorDataset(data_tensor, data_tensor), batch_size=1, shuffle=False)\n",
    "\n",
    "reconstructed_loss = [vae_loss(*vae(inputs), inputs).item() for inputs, _ in complete_loader]\n",
    "reconstructed_loss_df = pd.DataFrame(reconstructed_loss)\n",
    "re_statistics = reconstructed_loss_df.describe()\n",
    "print(re_statistics)\n",
    "mean_value = re_statistics.loc['mean'].values[0]  # Extract mean value\n",
    "std_value = re_statistics.loc['std'].values[0]"
   ]
  },
  {
   "cell_type": "markdown",
   "metadata": {},
   "source": [
    "- We compute the reconstruction loss of the validation dataset."
   ]
  },
  {
   "cell_type": "code",
   "execution_count": 35,
   "metadata": {},
   "outputs": [],
   "source": [
    "data_tensor = torch.tensor(val_data_x, dtype=torch.float)\n",
    "complete_loader = DataLoader(TensorDataset(data_tensor, data_tensor), batch_size=1, shuffle=False)\n",
    "reconstructed_loss_val = [vae_loss(*vae(inputs), inputs).item() for inputs, _ in complete_loader]"
   ]
  },
  {
   "cell_type": "markdown",
   "metadata": {},
   "source": [
    " We define a range of threshold values based on the mean and standard deviation of the reconstruction loss.\n",
    "- We classify the validation data for each threshold and calculate precision, recall, and accuracy.\n",
    "- The threshold value for which we achieve the highest sum of precision and recall is chosen as the optimal threshold."
   ]
  },
  {
   "cell_type": "code",
   "execution_count": 36,
   "metadata": {},
   "outputs": [
    {
     "name": "stdout",
     "output_type": "stream",
     "text": [
      "Best Threshold: 0.6946416842325571\n",
      "Best Precision: 0.7433628318584071\n",
      "Best Recall: 0.34146341463414637\n",
      "Best Accuracy: 0.9966555183946488\n"
     ]
    }
   ],
   "source": [
    "from sklearn.metrics import precision_score, recall_score, accuracy_score\n",
    "\n",
    "# Range of threshold values\n",
    "start_threshold = mean_value - 1 * std_value\n",
    "end_threshold = mean_value + 15 * std_value\n",
    "threshold_values = np.linspace(start_threshold, end_threshold, num=200)\n",
    "\n",
    "# Initialize variables to store the best threshold and corresponding metrics\n",
    "best_threshold = None\n",
    "best_precision = 0\n",
    "best_recall = 0\n",
    "best_accuracy = 0\n",
    "\n",
    "\n",
    "precisions = []\n",
    "recalls = []\n",
    "accuracies = []\n",
    "# Iterate over the range of threshold values\n",
    "for th in threshold_values:\n",
    "    # Generate predicted labels based on the current threshold\n",
    "    preds_labels = [0 if r < th else 1 for r in reconstructed_loss_val]\n",
    "    \n",
    "    # Calculate precision, recall, and accuracy\n",
    "    precision = precision_score(val_labels, preds_labels)\n",
    "    recall = recall_score(val_labels, preds_labels)\n",
    "    accuracy = accuracy_score(val_labels, preds_labels)\n",
    "\n",
    "    precisions.append(precision)\n",
    "    recalls.append(recall)\n",
    "    accuracies.append(accuracy)\n",
    "    \n",
    "    # Update the best threshold and corresponding metrics if necessary\n",
    "    if precision + recall > best_precision + best_recall:\n",
    "        best_precision = precision\n",
    "        best_recall = recall\n",
    "        best_accuracy = accuracy\n",
    "        best_threshold = th\n",
    "\n",
    "print(\"Best Threshold:\", best_threshold)\n",
    "print(\"Best Precision:\", best_precision)\n",
    "print(\"Best Recall:\", best_recall)\n",
    "print(\"Best Accuracy:\", best_accuracy)\n"
   ]
  },
  {
   "cell_type": "markdown",
   "metadata": {},
   "source": [
    "- We plot the precision, recall, and accuracy curves against the threshold values."
   ]
  },
  {
   "cell_type": "code",
   "execution_count": 37,
   "metadata": {},
   "outputs": [
    {
     "name": "stdout",
     "output_type": "stream",
     "text": [
      "0.6946416842325571\n"
     ]
    },
    {
     "data": {
      "image/png": "[encoded data removed]",
      "text/plain": [
       "<Figure size 432x288 with 1 Axes>"
      ]
     },
     "metadata": {
      "needs_background": "light"
     },
     "output_type": "display_data"
    }
   ],
   "source": [
    "# Plot precision, recall, and accuracy vs. threshold\n",
    "plt.plot(threshold_values, precisions, label='Precision')\n",
    "plt.plot(threshold_values, recalls, label='Recall')\n",
    "plt.plot(threshold_values, accuracies, label='Accuracy')\n",
    "plt.xlabel('Threshold')\n",
    "plt.ylabel('Metric Value')\n",
    "plt.title('Precision, Recall, and Accuracy vs. Threshold')\n",
    "# Add best threshold line\n",
    "best_threshold_index = np.argmax(np.array(precisions) + np.array(recalls))\n",
    "best_threshold = threshold_values[best_threshold_index]\n",
    "print(best_threshold)\n",
    "plt.axvline(x=best_threshold, color='r', linestyle='--', label=f'Best Threshold = {best_threshold:.2f}')\n",
    "plt.legend()\n",
    "plt.legend()\n",
    "plt.grid(True)\n",
    "plt.show()"
   ]
  },
  {
   "cell_type": "markdown",
   "metadata": {},
   "source": [
    "- We compute the reconstruction loss of the test dataset."
   ]
  },
  {
   "cell_type": "code",
   "execution_count": 38,
   "metadata": {},
   "outputs": [],
   "source": [
    "data_tensor = torch.tensor(test_data_x, dtype=torch.float)\n",
    "complete_loader = DataLoader(TensorDataset(data_tensor, data_tensor), batch_size=1, shuffle=False)\n",
    "\n",
    "reconstructed_loss_test = [vae_loss(*vae(inputs), inputs).item() for inputs, _ in complete_loader]"
   ]
  },
  {
   "cell_type": "markdown",
   "metadata": {},
   "source": [
    "- We predict the labels of the test data based to optimal threshold."
   ]
  },
  {
   "cell_type": "code",
   "execution_count": 39,
   "metadata": {},
   "outputs": [],
   "source": [
    "th = best_threshold\n",
    "preds_test = [0 if r < th else 1 for r in reconstructed_loss_test]"
   ]
  },
  {
   "cell_type": "markdown",
   "metadata": {},
   "source": [
    "- We plot the reconstruction loss of the test dataset along with the threshold line.\n"
   ]
  },
  {
   "cell_type": "code",
   "execution_count": 40,
   "metadata": {},
   "outputs": [
    {
     "name": "stdout",
     "output_type": "stream",
     "text": [
      "56863\n",
      "246\n"
     ]
    },
    {
     "data": {
      "image/png": "[encoded data removed]",
      "text/plain": [
       "<Figure size 720x432 with 1 Axes>"
      ]
     },
     "metadata": {
      "needs_background": "light"
     },
     "output_type": "display_data"
    }
   ],
   "source": [
    "reconstructed_loss_test_nf = reconstructed_loss_test[:t_nf]\n",
    "print(len(reconstructed_loss_test_nf))\n",
    "\n",
    "reconstructed_loss_test_f = reconstructed_loss_test[t_nf:]\n",
    "print(len(reconstructed_loss_test_f))\n",
    "\n",
    "plt.figure(figsize=(10, 6))\n",
    "\n",
    "plt.scatter(range(len(reconstructed_loss_test_f)), reconstructed_loss_test_f, c='blue', label='Reconstructed Loss - Fraud')\n",
    "\n",
    "plt.scatter(range(len(reconstructed_loss_test_nf)), reconstructed_loss_test_nf, c='red', label='Reconstructed Loss - Non-Fraud')\n",
    "plt.axhline(y=th, color='green', linestyle='--', label=f'Threshold = {th}')\n",
    "plt.xlabel('Index')\n",
    "plt.ylabel('Reconstructed Loss')\n",
    "plt.title('Scatter Plot of Reconstructed Loss for Fraud and Non-Fraud')\n",
    "plt.legend()\n",
    "plt.grid(True)\n",
    "plt.show()"
   ]
  },
  {
   "cell_type": "markdown",
   "metadata": {},
   "source": [
    "- We get the accuracy 0.99"
   ]
  },
  {
   "cell_type": "code",
   "execution_count": 41,
   "metadata": {},
   "outputs": [
    {
     "name": "stdout",
     "output_type": "stream",
     "text": [
      "Accuracy: 0.9968831532683115\n"
     ]
    }
   ],
   "source": [
    "accuracy = accuracy_score(test_labels, preds_test)\n",
    "print(\"Accuracy:\", accuracy)"
   ]
  },
  {
   "cell_type": "markdown",
   "metadata": {},
   "source": [
    "- We plot the ROC Curve.\n",
    "- We find the aread under curve which is 0.80"
   ]
  },
  {
   "cell_type": "code",
   "execution_count": 42,
   "metadata": {},
   "outputs": [
    {
     "data": {
      "image/png": "[encoded data removed]",
      "text/plain": [
       "<Figure size 432x288 with 1 Axes>"
      ]
     },
     "metadata": {
      "needs_background": "light"
     },
     "output_type": "display_data"
    },
    {
     "name": "stdout",
     "output_type": "stream",
     "text": [
      "0.6766622000760921\n"
     ]
    }
   ],
   "source": [
    "from sklearn.metrics import roc_curve,roc_auc_score\n",
    "\n",
    "#potting roc curve\n",
    "fpr, tpr, thresholds = roc_curve(test_labels, preds_test)\n",
    "\n",
    "plt.plot(fpr, tpr, color = 'orange', label = \"ROC\")\n",
    "plt.plot([0,1],[0,1], color='darkblue', linestyle=\"--\",label = \"Guessing\")\n",
    "plt.xlabel(\"false positive rate\")\n",
    "plt.ylabel(\"true positive rate\")\n",
    "plt.title(\"Roc_curve\")\n",
    "plt.legend()\n",
    "plt.show()\n",
    "\n",
    "\n",
    "auc_score = roc_auc_score(test_labels, preds_test)\n",
    "print(auc_score)\n"
   ]
  },
  {
   "cell_type": "markdown",
   "metadata": {},
   "source": [
    "- We find the confusion matrix"
   ]
  },
  {
   "cell_type": "code",
   "execution_count": 43,
   "metadata": {},
   "outputs": [
    {
     "data": {
      "image/png": "[encoded data removed]",
      "text/plain": [
       "<Figure size 576x432 with 2 Axes>"
      ]
     },
     "metadata": {
      "needs_background": "light"
     },
     "output_type": "display_data"
    }
   ],
   "source": [
    "## confusion matrix\n",
    "from sklearn.metrics import confusion_matrix\n",
    "import seaborn as sns\n",
    "\n",
    "conf_mat = confusion_matrix(test_labels, preds_test)\n",
    "\n",
    "\n",
    "classes = np.unique(test_labels)\n",
    "\n",
    "plt.figure(figsize=(8, 6))\n",
    "sns.heatmap(conf_mat, annot=True, fmt='d', cmap='Blues', xticklabels=classes, yticklabels=classes)\n",
    "plt.xlabel('Predicted labels')\n",
    "plt.ylabel('True labels')\n",
    "plt.title('Confusion Matrix')\n",
    "plt.show()"
   ]
  },
  {
   "cell_type": "markdown",
   "metadata": {},
   "source": [
    "- F1 Score for the varitional autoencoders is 0.49"
   ]
  },
  {
   "cell_type": "code",
   "execution_count": 44,
   "metadata": {},
   "outputs": [
    {
     "name": "stdout",
     "output_type": "stream",
     "text": [
      "              precision    recall  f1-score   support\n",
      "\n",
      "         0.0       1.00      1.00      1.00     56863\n",
      "         1.0       0.82      0.35      0.49       246\n",
      "\n",
      "    accuracy                           1.00     57109\n",
      "   macro avg       0.91      0.68      0.75     57109\n",
      "weighted avg       1.00      1.00      1.00     57109\n",
      "\n"
     ]
    }
   ],
   "source": [
    "from sklearn.metrics import classification_report\n",
    "print(classification_report(test_labels, preds_test))"
   ]
  },
  {
   "cell_type": "markdown",
   "metadata": {},
   "source": [
    "## SUMMARY"
   ]
  },
  {
   "cell_type": "markdown",
   "metadata": {},
   "source": [
    "### Dataset Description\n",
    "\n",
    "The dataset consists of credit card transaction data, categorized into two classes: Fraud and Non-Fraud. \n",
    "\n",
    "- **Class Distribution**: \n",
    "  - 99.8% of the data belong to the Non-Fraud class.\n",
    "  - This indicates a severe class imbalance, with a significantly larger proportion of Non-Fraud instances compared to Fraud instances.\n",
    "\n",
    "- **Normalization**:\n",
    "  - To ensure that all features are on the same scale and to facilitate effective model training, the data is normalized.\n"
   ]
  },
  {
   "cell_type": "markdown",
   "metadata": {},
   "source": [
    "### Data Splitting\n",
    "\n",
    "- Split the data into two classes: Fraud and non-fraud.\n",
    "- Further divide the non-fraud class into a training set and a test set in a 0.8:0.2 ratio.\n",
    "- Split the training set for the non-fraud class into a training set and a validation set in a 0.8:0.2 ratio.\n",
    "- Use the training set for the non-fraud class exclusively for training the autoencoders and variational autoencoders.\n",
    "- Do not use the fraud class data during the training process.\n",
    "- Split the fraud class data into a validation set and a test set in a 0.5:0.5 ratio.\n",
    "- Utilize the validation set for the fraud class to tune hyperparameters.\n"
   ]
  },
  {
   "cell_type": "markdown",
   "metadata": {},
   "source": [
    "### Method Used\n",
    "\n",
    "We train our model on the non-fraudulent data. The model learns the representation of the non-fraudulent data. Therefore, when a new data point is passed through our model, it will exhibit a high reconstruction loss if the data point is fraudulent and a lower reconstruction loss if the data point is non-fraudulent. We establish a threshold; if the reconstruction loss of a test point is less than that threshold, we classify it as non-fraudulent; otherwise, we classify it as fraudulent.\n"
   ]
  },
  {
   "cell_type": "markdown",
   "metadata": {},
   "source": [
    "### Architecture\n",
    "#### Autoencoder \n",
    "\n",
    "- Implemented code in PyTorch\n",
    "\n",
    "###### Encoder Architecture:\n",
    "\n",
    "  - Input layer: (30, 14) linear transformation followed by the RELU activation function.\n",
    "  - Hidden layer: (14, 7) linear transformation followed by the RELU activation function.\n",
    "\n",
    "###### Decoder Architecture:\n",
    "\n",
    "  - Hidden layer: (7, 14) linear transformation followed by the RELU activation function.\n",
    "  - Output layer: (14, 30) linear transformation followed by the sigmoid activation function.\n",
    "    - The sigmoid activation ensures that the output values are within the range [0, 1], consistent with the input data.\n",
    "\n",
    "###### Loss Function:\n",
    "- Using the Mean Squared Error (MSE) loss function to minimize the reconstruction loss.\n",
    "  - Objective: to minimize the difference between the output and the input, aiming to reconstruct the input data as accurately as possible.\n",
    "\n",
    "###### Optimizer:\n",
    "  - Utilizing the Adam optimizer with a learning rate of 0.01 for training the model.\n"
   ]
  },
  {
   "cell_type": "markdown",
   "metadata": {},
   "source": [
    "#### Variational Autoencoder \n",
    "\n",
    "- **Input Dimension**: 30 \n",
    "- **Latent Dimension**: 7 \n",
    "\n",
    "###### Encoder Architecture:\n",
    "- Input Layer: Fully connected layer with 30 input features, followed by ReLU activation.\n",
    "- Hidden Layer: Fully connected layer with 14 units, followed by ReLU activation.\n",
    "- Output Layer: Fully connected layer with `2 * latent_dim` units (14 units for each mean and log-variance of the latent space), followed by ReLU activation.\n",
    "\n",
    "###### Decoder Architecture:\n",
    "- Input Layer: Fully connected layer with `latent_dim` units, followed by ReLU activation.\n",
    "- Hidden Layer: Fully connected layer with 14 units, followed by ReLU activation.\n",
    "- Output Layer: Fully connected layer with 30 units (same as input dimension), followed by Sigmoid activation to constrain output values between 0 and 1.\n",
    "\n",
    "###### Loss Function:\n",
    "- **Reconstruction Loss (MSE)**: Measures the average squared difference between reconstructed output and original input. Encourages accurate data reconstruction.\n",
    "- **KL Divergence**: Compares the inferred latent distribution to a standard normal distribution. Encourages a well-structured latent space resembling the standard distribution.\n",
    "\n",
    "###### Optimizer:\n",
    "Adam optimizer with a learning rate of 0.001 is used for training the VAE.\n"
   ]
  },
  {
   "cell_type": "markdown",
   "metadata": {},
   "source": [
    "### Finding Threshold\n",
    "\n",
    "#### Training Dataset (Non-Fraud)\n",
    "- Compute the reconstruction loss of the training dataset, consisting of the non-fraud dataset.\n",
    "- Calculate the mean and standard deviation of the reconstruction loss of the training dataset. These statistics will be used to determine the threshold.\n",
    "\n",
    "#### Validation Set\n",
    "- Compute the reconstruction loss of the validation dataset.\n",
    "- Define a range of threshold values based on the mean and standard deviation of the reconstruction loss.\n",
    "- Classify the validation data for each threshold and calculate precision, recall, and accuracy.\n",
    "- Choose the threshold value for which the highest sum of precision and recall is achieved as the optimal threshold.\n"
   ]
  },
  {
   "cell_type": "markdown",
   "metadata": {},
   "source": [
    "### RESULTS\n",
    "The results we obtained are:\n",
    "#### Autoencoder\n",
    "- **Accuracy**: 0.99\n",
    "- **ROC Curve AUC**: 0.80\n",
    "- **F1-score for Fraud (Class 1)**: **0.61**\n",
    "\n",
    "#### Variational Autoencoder\n",
    "- **Accuracy**: 0.99\n",
    "- **ROC Curve AUC**: 0.67\n",
    "- **F1-score for Fraud (Class 1)**: **0.49**\n",
    "\n"
   ]
  }
 ],
 "metadata": {
  "kernelspec": {
   "display_name": "myenv",
   "language": "python",
   "name": "python3"
  },
  "language_info": {
   "codemirror_mode": {
    "name": "ipython",
    "version": 3
   },
   "file_extension": ".py",
   "mimetype": "text/x-python",
   "name": "python",
   "nbconvert_exporter": "python",
   "pygments_lexer": "ipython3",
   "version": "3.6.13"
  }
 },
 "nbformat": 4,
 "nbformat_minor": 2
}
